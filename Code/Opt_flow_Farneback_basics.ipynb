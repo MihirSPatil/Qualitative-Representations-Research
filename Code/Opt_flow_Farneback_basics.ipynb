{
 "cells": [
  {
   "cell_type": "code",
   "execution_count": 1,
   "metadata": {},
   "outputs": [],
   "source": [
    "import pdb\n",
    "import cv2\n",
    "import numpy as np"
   ]
  },
  {
   "cell_type": "code",
   "execution_count": 2,
   "metadata": {},
   "outputs": [],
   "source": [
    "# Function to visualize the flow\n",
    "def draw_flow(img, flow, step=16):\n",
    "    \n",
    "    # get the height and width of the image\n",
    "    h, w = img.shape[:2]\n",
    "    \n",
    "    # get the y, x pixel values and stores them as a grid\n",
    "    y, x = np.mgrid[step/2:h:step, step/2:w:step].reshape(2,-1).astype(int)\n",
    "\n",
    "    # get the displacement(horizontal and vertical) for each pixel with corresponding x and y values\n",
    "    fx, fy = flow[y,x].T    \n",
    "    \n",
    "    #get a 2x2 matrix for every x, y value with the initial value and value with the displacement\n",
    "    lines = np.vstack([x, y, x+fx, y+fy]).T.reshape(-1, 2, 2)\n",
    "    \n",
    "    # round the new x, y values to the next highest value and convert them to int\n",
    "    lines = np.int32(lines + 0.5)\n",
    "    \n",
    "    # convert the input image to gray\n",
    "    vis = cv2.cvtColor(img, cv2.COLOR_GRAY2BGR)\n",
    "    \n",
    "    #draw multiple lines(indicators) on the input image\n",
    "    cv2.polylines(vis, lines, 0, (0, 255, 0))\n",
    "    \n",
    "    # draw a circle for all the points with radius 1, note lines is a 2x2 matrix for every pixel\n",
    "    for (x1, y1), (x2, y2) in lines:\n",
    "        cv2.circle(vis, (x1, y1), 1, (0, 255, 0), -1)\n",
    "    return vis\n"
   ]
  },
  {
   "cell_type": "markdown",
   "metadata": {},
   "source": [
    "#### The following code compares the current and the previous frames at every instance of time"
   ]
  },
  {
   "cell_type": "code",
   "execution_count": 6,
   "metadata": {},
   "outputs": [],
   "source": [
    "# Create object for video capture\n",
    "cap = cv2.VideoCapture(\"my_vids/VID-20180512-WA0006.mp4\")\n",
    "\n",
    "# Get the image frame and a return value[true/false]\n",
    "ret, frame = cap.read()\n",
    "\n",
    "# Initialize a counter to keep track of the frames and decide when to change the initial frame\n",
    "frame_count = 0\n",
    "\n",
    "# Transpose the frame to view in potrait mode\n",
    "frame = cv2.transpose(frame)\n",
    "\n",
    "# Convert the captured frame to gray and store it as previous frame\n",
    "gray = cv2.cvtColor(frame,cv2.COLOR_BGR2GRAY)\n",
    "\n",
    "# Enter the while condition only if we have a previous frame to compare against\n",
    "while(1):\n",
    "    # change the old frame after every 15 or 35 frames or if it is the initial frame\n",
    "    if(frame_count == 0 or frame_count%35 == 0):\n",
    "        prev_gray = gray\n",
    "    \n",
    "# Obtain the new frame and return value[true/false]\n",
    "    ret, frame = cap.read()\n",
    "    \n",
    "    if ret:\n",
    "        \n",
    "        # increment the frame counter if the return value is true\n",
    "        frame_count+= 1\n",
    "    \n",
    "        # Transpose this frame to ensure proper comparison between the previous and new frames\n",
    "        frame = cv2.transpose(frame)\n",
    "    \n",
    "        # Convert the new frame to gray and store it in \n",
    "        gray = cv2.cvtColor(frame,cv2.COLOR_BGR2GRAY)\n",
    "    \n",
    "        # Calculate the optical flow between the two frames using farneback method\n",
    "        flow = cv2.calcOpticalFlowFarneback(prev_gray,gray, None, 0.5, 3, 15, 3, 5, 1.2, 0)\n",
    "        \n",
    "        #get the magnitude and angle of flow vectors in polar form, i.e the angle is in radians\n",
    "        mag, ang = cv2.cartToPolar(flow[...,0], flow[...,1])\n",
    "        \n",
    "        #normalize the magnitude between the minimum and maximum values.\n",
    "        mag = cv2.normalize(mag,None,cv2.NORM_MINMAX)\n",
    "              \n",
    "        # Visualize the optical flow\n",
    "        cv2.imshow('flow',draw_flow(gray, flow))\n",
    "    \n",
    "        # Waits for 30 milliseconds for a keypress\n",
    "        ch = cv2.waitKey(30) & 0xff\n",
    "    \n",
    "        # Break if escape key is used \n",
    "        if ch == 27:\n",
    "            break\n",
    "        \n",
    "        # Do a frame capture and store as image if 's' is pressed\n",
    "        elif ch == ord('s'):\n",
    "            cv2.imwrite('opticalfb.png',new_frame)\n",
    "            \n",
    "    # stop if there are no more frames to calculate optical flow        \n",
    "    else :\n",
    "        break\n",
    "\n",
    "    \n",
    "# Release the capture mode\n",
    "cap.release()\n",
    "\n",
    "# Close all windows and exit\n",
    "cv2.destroyAllWindows()"
   ]
  },
  {
   "cell_type": "code",
   "execution_count": 45,
   "metadata": {},
   "outputs": [
    {
     "name": "stdout",
     "output_type": "stream",
     "text": [
      "number of frames =  561 , FPS = 30.147\n"
     ]
    }
   ],
   "source": [
    "cap = cv2.VideoCapture(\"VID-20180512-WA0006.mp4\")\n",
    "cap.set(cv2.CAP_PROP_FPS, 60)\n",
    "length = int(cap.get(cv2.CAP_PROP_FRAME_COUNT))\n",
    "fps    = cap.get(cv2.CAP_PROP_FPS)\n",
    "print \"number of frames = \", length, ',',\"FPS =\", fps \n",
    "cap.release()\n",
    "cv2.destroyAllWindows()"
   ]
  },
  {
   "cell_type": "markdown",
   "metadata": {},
   "source": [
    "Why cluster the optical flow?\n",
    "\n",
    "\n",
    "If we are clustering shouldn't it be before running the optical flow?\n",
    "\n",
    "\n",
    "What to do after clustering?\n",
    "\n",
    "\n",
    "The optical flow analysis i have shows almost no Flow components? \n",
    "\n",
    "\n",
    "should I reduce the FPS to get a better visualization?\n"
   ]
  },
  {
   "cell_type": "code",
   "execution_count": null,
   "metadata": {},
   "outputs": [],
   "source": []
  }
 ],
 "metadata": {
  "kernelspec": {
   "display_name": "Python [conda env:OpenCv]",
   "language": "python",
   "name": "conda-env-OpenCv-py"
  },
  "language_info": {
   "codemirror_mode": {
    "name": "ipython",
    "version": 2
   },
   "file_extension": ".py",
   "mimetype": "text/x-python",
   "name": "python",
   "nbconvert_exporter": "python",
   "pygments_lexer": "ipython2",
   "version": "2.7.15"
  }
 },
 "nbformat": 4,
 "nbformat_minor": 2
}
