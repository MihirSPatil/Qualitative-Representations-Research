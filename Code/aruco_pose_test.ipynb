{
 "cells": [
  {
   "cell_type": "code",
   "execution_count": 12,
   "metadata": {},
   "outputs": [],
   "source": [
    "import glob\n",
    "import time\n",
    "import cv2 as cv\n",
    "import numpy as np\n",
    "import cv2.aruco as aruco"
   ]
  },
  {
   "cell_type": "code",
   "execution_count": 13,
   "metadata": {},
   "outputs": [],
   "source": [
    "cap = cv.VideoCapture('/home/mihir/rosbag2video/left_wall.mp4')\n",
    "epochs = []\n",
    "ref_pose = []"
   ]
  },
  {
   "cell_type": "code",
   "execution_count": 14,
   "metadata": {},
   "outputs": [],
   "source": [
    "#marker length in meters\n",
    "marker_length = 0.22\n",
    "distortion_coeffs = np.array([0.0, 0.0, 0.0, 0.0, 0.0])\n",
    "intrinsic_camera_mat = np.array([570.3422241210938, 0.0, 319.5, 0.0, 570.3422241210938, 239.5, 0.0, 0.0, 1.0])\n",
    "rectification_matrix = np.array([1.0, 0.0, 0.0, 0.0, 1.0, 0.0, 0.0, 0.0, 1.0])\n",
    "camera_projection_matrix = np.array([570.3422241210938, 0.0, 319.5, 0.0, 0.0, 570.3422241210938, 239.5, 0.0, 0.0, 0.0, 1.0, 0.0])\n",
    "cpm = camera_projection_matrix.reshape(4,3)\n",
    "icm = intrinsic_camera_mat.reshape(3,3)"
   ]
  },
  {
   "cell_type": "code",
   "execution_count": 15,
   "metadata": {},
   "outputs": [
    {
     "name": "stdout",
     "output_type": "stream",
     "text": [
      "(1, array([1.7896217 , 0.13100506, 4.82302057]))\n",
      "(1, array([1.78626527, 0.13397661, 4.63361509]))\n",
      "(1, array([1.79797864, 0.12132473, 4.54016282]))\n",
      "(1, array([1.79674782, 0.10534741, 4.45361792]))\n",
      "(1, array([1.78942521, 0.09834355, 4.40192644]))\n",
      "(1, array([1.83260551, 0.09810952, 4.47911929]))\n",
      "(1, array([1.84800557, 0.09024537, 4.47837809]))\n",
      "(1, array([1.80600327, 0.07943401, 4.317428  ]))\n",
      "(1, array([1.78232983, 0.07604212, 4.23425164]))\n",
      "(1, array([1.86709227, 0.07483794, 4.38076914]))\n",
      "(1, array([1.90455079, 0.07415422, 4.45497765]))\n",
      "(1, array([1.88271887, 0.0711604 , 4.39035932]))\n",
      "(1, array([1.91236217, 0.07415436, 4.45497879]))\n",
      "(1, array([1.82320015, 0.06120508, 4.23434035]))\n",
      "(1, array([1.8624162 , 0.05672433, 4.31657467]))\n",
      "(1, array([1.87006045, 0.06032513, 4.30380908]))\n",
      "(1, array([1.87006045, 0.06032513, 4.30380908]))\n",
      "(1, array([1.92290727, 0.05576608, 4.389943  ]))\n",
      "(1, array([1.83215627, 0.05120072, 4.17456253]))\n",
      "(1, array([1.86696836, 0.05015576, 4.24121852]))\n",
      "(1, array([1.83980995, 0.047411  , 4.16302253]))\n",
      "(1, array([1.82168118, 0.04495673, 4.10554192]))\n",
      "(1, array([1.8509238 , 0.04741396, 4.16339275]))\n",
      "(1, array([1.86140391, 0.04388581, 4.17449596]))\n",
      "(1, array([1.8352826 , 0.04493712, 4.10395819]))\n",
      "(1, array([1.82174363, 0.03530446, 4.03018916]))\n",
      "(1, array([1.85741559, 0.03776183, 4.10518539]))\n",
      "(1, array([1.83523806, 0.03893369, 4.0405435 ]))\n",
      "(1, array([1.86837399, 0.03776378, 4.1055398 ]))\n",
      "(1, array([1.84236306, 0.03893712, 4.0406489 ]))\n",
      "(1, array([1.83943363, 0.042366  , 4.03026481]))\n",
      "(1, array([1.84944871, 0.03893707, 4.04065126]))\n",
      "(1, array([1.8925567 , 0.03055268, 4.10353571]))\n",
      "(1, array([1.85984704, 0.03185123, 4.04034538]))\n",
      "(1, array([1.8925567 , 0.03055268, 4.10353571]))\n",
      "(1, array([1.86943457, 0.03530642, 4.03069396]))\n",
      "(1, array([1.86604153, 0.0353085 , 4.03079635]))\n",
      "(1, array([1.88015839, 0.02824631, 4.03075869]))\n",
      "(1, array([1.85410883, 0.02611366, 3.9749414 ]))\n",
      "(1, array([1.89005225, 0.02836895, 4.04783737]))\n",
      "(1, array([1.89183812, 0.02837467, 4.04304856]))\n",
      "(1, array([1.89594105, 0.02840497, 4.04039611]))\n",
      "(1, array([1.87593994, 0.02966543, 3.98429846]))\n",
      "(1, array([1.84191957, 0.03078388, 3.90462528]))\n",
      "(1, array([1.87390818, 0.02955241, 3.96901689]))\n",
      "(1, array([1.88550687, 0.0330776 , 3.97501588]))\n",
      "(1, array([1.89104591, 0.02611879, 3.97597676]))\n",
      "(1, array([1.89302936, 0.02612409, 3.97619506]))\n",
      "(1, array([1.90166951, 0.03308771, 3.97612997]))\n",
      "(1, array([1.88496396, 0.02742944, 3.90740778]))\n",
      "(1, array([1.85727398, 0.02870314, 3.855139  ]))\n",
      "(1, array([1.89124126, 0.02743384, 3.9150012 ]))\n",
      "(1, array([1.89341569, 0.0274409 , 3.91585679]))\n",
      "(1, array([1.89395207, 0.03079557, 3.90645493]))\n",
      "(1, array([1.89394367, 0.02732505, 3.89939363]))\n",
      "(1, array([1.87083985, 0.02528225, 3.84829086]))\n",
      "(1, array([1.82193327, 0.02780144, 3.73433211]))\n",
      "(1, array([1.91232439, 0.02394737, 3.90540503]))\n",
      "(1, array([1.85909745, 0.01989831, 3.78691133]))\n",
      "(1, array([1.863558  , 0.01991406, 3.78924732]))\n",
      "(1, array([1.88716384, 0.02184525, 3.83720011]))\n",
      "(1, array([1.90109829, 0.02194975, 3.85491443]))\n",
      "(1, array([1.90109829, 0.02194975, 3.85491443]))\n",
      "(1, array([1.85624096, 0.01470604, 3.73091362]))\n",
      "(1, array([1.94713205, 0.00693677, 3.90497891]))\n",
      "(1, array([1.89496269, 0.00663612, 3.78883784]))\n",
      "(1, array([1.902289  , 0.01004578, 3.78830588]))\n",
      "(1, array([1.93471674, 0.01179506, 3.84822475]))\n",
      "(1, array([1.90359175, 0.0099399 , 3.78280286]))\n",
      "(1, array([1.94344481, 0.00843299, 3.85194641]))\n",
      "(1, array([1.92281318, 0.00997965, 3.79810468]))\n",
      "(1, array([1.88699511, 0.00489368, 3.72412981]))\n",
      "(1, array([1.92217309e+00, 3.30699708e-03, 3.77725233e+00]))\n",
      "(1, array([ 1.85092272e+00, -1.58771105e-03,  3.62488965e+00]))\n",
      "(1, array([1.87703538e+00, 3.22221119e-03, 3.67922015e+00]))\n",
      "(1, array([1.87828027e+00, 3.21813503e-03, 3.67858349e+00]))\n",
      "(1, array([1.88483834e+00, 3.22203079e-03, 3.67861200e+00]))\n",
      "(1, array([1.88567940e+00, 3.21780242e-03, 3.67719272e+00]))\n",
      "(1, array([1.88816436e+00, 3.22071416e-03, 3.67880782e+00]))\n",
      "(1, array([ 1.81433534e+00, -1.54263001e-03,  3.51727403e+00]))\n",
      "(1, array([ 1.84749423, -0.00626307,  3.5752375 ]))\n",
      "(1, array([ 1.84723473e+00, -3.12434643e-03,  3.56888777e+00]))\n",
      "(1, array([1.85540081e+00, 4.58423394e-08, 3.57547451e+00]))\n",
      "(1, array([1.87767353e+00, 1.58373255e-03, 3.61835307e+00]))\n",
      "(1, array([ 1.88451265, -0.00473583,  3.6200575 ]))\n",
      "(1, array([1.86793889e+00, 7.30448257e-08, 3.57547477e+00]))\n",
      "(1, array([ 1.84552855e+00, -1.54653684e-03,  3.53261938e+00]))\n",
      "(1, array([ 1.85172161e+00, -1.54657186e-03,  3.53261785e+00]))\n",
      "(1, array([ 1.89298351, -0.01107595,  3.61143429]))\n",
      "(1, array([ 1.89975324, -0.01109366,  3.61829578]))\n",
      "(1, array([ 1.86255962, -0.00463   ,  3.52401586]))\n",
      "(1, array([ 1.86578811, -0.00463199,  3.52427731]))\n",
      "(1, array([ 1.89619645, -0.00617443,  3.56438508]))\n",
      "(1, array([ 1.8749165 , -0.00462987,  3.52401484]))\n",
      "(1, array([ 1.87814563, -0.00463184,  3.52427574]))\n",
      "(1, array([ 1.88286303, -0.00463046,  3.5243508 ]))\n",
      "(1, array([ 1.91220206, -0.0062693 ,  3.56510624]))\n",
      "(1, array([ 1.89442751, -0.00464034,  3.52329655]))\n",
      "(10, array([-0.32196425, -0.10825526,  1.99745932]))\n",
      "(10, array([-0.32040588, -0.10994515,  1.9353711 ]))\n",
      "(10, array([-0.32088176, -0.14270355,  1.51488638]))\n",
      "(10, array([-0.32117082, -0.15348483,  1.38157325]))\n",
      "(10, array([-0.31814946, -0.16907142,  1.13149123]))\n",
      "(10, array([-0.380422  , -0.19426833,  1.29026019]))\n",
      "(10, array([-0.31894388, -0.17567795,  1.06015185]))\n",
      "(10, array([-0.37317558, -0.20030032,  1.19086897]))\n",
      "(10, array([-0.36537569, -0.19507831,  1.16329221]))\n",
      "(10, array([-0.3674648 , -0.19581974,  1.16171567]))\n",
      "(10, array([-0.36957844, -0.19768232,  1.160804  ]))\n",
      "(10, array([-0.36690761, -0.1963604 ,  1.1445771 ]))\n",
      "(10, array([-0.36930984, -0.19728029,  1.1385467 ]))\n",
      "(10, array([-0.36399697, -0.19530779,  1.11637758]))\n",
      "(10, array([-0.36656349, -0.19660479,  1.11821812]))\n",
      "(10, array([-0.36632259, -0.20048278,  1.10768347]))\n",
      "(10, array([-0.3646298 , -0.19897653,  1.09690305]))\n",
      "(10, array([-0.36840057, -0.20302217,  1.0956668 ]))\n",
      "(10, array([-0.36406071, -0.20043402,  1.07461095]))\n",
      "(10, array([-0.36643513, -0.20158565,  1.07085655]))\n",
      "(10, array([-0.36497835, -0.20300958,  1.06155011]))\n",
      "(10, array([-0.3677174 , -0.20612418,  1.05638779]))\n",
      "(10, array([-0.36631471, -0.20485194,  1.04317982]))\n",
      "(10, array([-0.36501886, -0.2057712 ,  1.02993452]))\n",
      "(10, array([-0.36521643, -0.20639924,  1.02436034]))\n",
      "(10, array([-0.3655555 , -0.20791294,  1.00631392]))\n",
      "(10, array([-0.36531618, -0.2091331 ,  0.99983588]))\n",
      "(10, array([-0.36712829, -0.20961057,  1.00001515]))\n",
      "(10, array([-0.36791336, -0.21204604,  0.99532473]))\n",
      "(10, array([-0.36710187, -0.21269584,  0.97321364]))\n",
      "(10, array([-0.36732474, -0.21376592,  0.96862764]))\n",
      "(10, array([-0.36620127, -0.21390827,  0.96010638]))\n",
      "(10, array([-0.36685876, -0.21485471,  0.95344294]))\n",
      "(10, array([-0.36779522, -0.21708224,  0.94362453]))\n",
      "(10, array([-0.36763437, -0.21839935,  0.93722602]))\n",
      "(10, array([-0.36650418, -0.21884075,  0.92735956]))\n",
      "(10, array([-0.36772043, -0.22084282,  0.92569959]))\n",
      "(32, array([2.15655322, 0.19386699, 4.56222541]))\n",
      "(32, array([2.17982424, 0.19244767, 4.48274873]))\n",
      "(32, array([2.20089817, 0.19240528, 4.48173989]))\n",
      "(32, array([2.21659479, 0.18814335, 4.47379225]))\n",
      "(32, array([2.12172004, 0.18830314, 4.25616284]))\n",
      "(32, array([2.15156147, 0.18830263, 4.25614562]))\n",
      "(32, array([2.15265963, 0.18823904, 4.25471598]))\n",
      "(32, array([2.26139297, 0.19101762, 4.40457143]))\n",
      "(32, array([2.20017957, 0.18831152, 4.25636059]))\n",
      "(32, array([2.16875879, 0.17948107, 4.18070095]))\n",
      "(32, array([2.21230851, 0.18823762, 4.25465639]))\n",
      "(32, array([2.25268571, 0.18935768, 4.32070792]))\n",
      "(32, array([2.26384367, 0.18922575, 4.31669311]))\n",
      "(32, array([2.19805057, 0.1794798 , 4.18065539]))\n",
      "(32, array([2.27839097, 0.18941385, 4.32275819]))\n",
      "(32, array([2.16699939, 0.17457545, 4.10884729]))\n",
      "(32, array([2.19957609, 0.17873363, 4.16363254]))\n",
      "(32, array([2.25002876, 0.17978126, 4.23121107]))\n",
      "(32, array([2.15595926, 0.17016814, 4.04653925]))\n",
      "(32, array([2.1886106 , 0.17457531, 4.1088443 ]))\n",
      "(32, array([2.19381747, 0.1745626 , 4.10857848]))\n",
      "(32, array([2.18062478, 0.1701606 , 4.04621131]))\n",
      "(32, array([2.17713822, 0.17360319, 4.0443453 ]))\n"
     ]
    }
   ],
   "source": [
    "while(True):\n",
    "    # Capture frame-by-frame\n",
    "    ret, frame = cap.read()\n",
    "    if (ret):\n",
    "        # Our operations on the frame come here\n",
    "        #gray = cv.cvtColor(frame, cv.COLOR_BGR2GRAY)\n",
    "        aruco_dict = aruco.Dictionary_get(aruco.DICT_6X6_250)\n",
    "        parameters =  aruco.DetectorParameters_create()\n",
    "    \n",
    "        corners, ids, rejectedImgPoints = aruco.detectMarkers(frame, aruco_dict, parameters=parameters)\n",
    "    \n",
    "        if corners or ids:\n",
    "            #timestamps = cap.get(cv.CAP_PROP_POS_MSEC)\n",
    "            #time_list.append(timestamps)\n",
    "            epochs.append(time.time())\n",
    "            gray = aruco.drawDetectedMarkers(frame, corners)\n",
    "            rvec, tvec, _ = aruco.estimatePoseSingleMarkers(corners,marker_length,icm, distortion_coeffs)\n",
    "            gray = aruco.drawAxis(gray, icm, distortion_coeffs, rvec, tvec, 0.1)\n",
    "\n",
    "            #for bookeeping purposes\n",
    "            pose_tuple = ids[0][0], tvec[0][0]\n",
    "            print (pose_tuple)\n",
    "            ref_pose.append(pose_tuple)\n",
    "            \n",
    "            \n",
    "        # Display the resulting frame\n",
    "        cv.imshow('frame',frame)\n",
    "        if cv.waitKey(60) & 0xFF == ord('q'):\n",
    "            break\n",
    "        \n",
    "                \n",
    "    else:\n",
    "        break\n",
    " \n",
    "#release the capture once everything is done\n",
    "cap.release()\n",
    "cv.destroyAllWindows()"
   ]
  },
  {
   "cell_type": "markdown",
   "metadata": {},
   "source": [
    "#### can also use time.clock but that will only give system time and not the actual time(12/24 hour format), with ros use ros.time.now"
   ]
  },
  {
   "cell_type": "code",
   "execution_count": 203,
   "metadata": {},
   "outputs": [
    {
     "data": {
      "text/plain": [
       "'Wed Oct 24 14:34:27 2018'"
      ]
     },
     "execution_count": 203,
     "metadata": {},
     "output_type": "execute_result"
    }
   ],
   "source": [
    "time.ctime(epochs[0])"
   ]
  },
  {
   "cell_type": "code",
   "execution_count": null,
   "metadata": {},
   "outputs": [],
   "source": [
    "epochs"
   ]
  },
  {
   "cell_type": "code",
   "execution_count": 76,
   "metadata": {},
   "outputs": [],
   "source": [
    "# write to a csv file just for testing \n",
    "import csv\n",
    "\n",
    "with open('temp.csv', 'w') as csvfile:\n",
    "    fieldnames = ['agent1', 'x1', 'y1', 'agent2', 'x2', 'y2', 'agent3', 'x3', 'y3']\n",
    "    writer = csv.DictWriter(csvfile, fieldnames=fieldnames)\n",
    "    \n",
    "    writer.writeheader()\n",
    "    for i in range(len(ref_pose)):\n",
    "        #check the marker_id to decide when to put what\n",
    "        if ref_pose[i][1][0] > 0:\n",
    "            #puts data in the right most column if the object is on the right\n",
    "            writer.writerow({'agent3': ref_pose[i][0], 'x3': ref_pose[i][1][0], 'y3': ref_pose[i][1][1]})\n",
    "        else :\n",
    "            #puts data in the left most column if the object is on the left\n",
    "            writer.writerow({'agent1': ref_pose[i][0], 'x1': ref_pose[i][1][0], 'y1': ref_pose[i][1][1]})\n",
    "    "
   ]
  },
  {
   "cell_type": "code",
   "execution_count": 109,
   "metadata": {},
   "outputs": [],
   "source": [
    "#just to count the number of instances of each marker\n",
    "marker17,marker32,marker40,marker25 = 0,0,0,0\n",
    "for idx in range(len(ref_pose)):\n",
    "    if ref_pose[idx][0] == 17:\n",
    "        marker17+= 1\n",
    "    elif ref_pose[idx][0] == 32:\n",
    "        marker32+= 1\n",
    "    elif ref_pose[idx][0] == 25:\n",
    "        marker25+= 1\n",
    "    elif ref_pose[idx][0] == 40:\n",
    "        marker40+= 1"
   ]
  },
  {
   "cell_type": "code",
   "execution_count": 110,
   "metadata": {},
   "outputs": [
    {
     "data": {
      "text/plain": [
       "73"
      ]
     },
     "execution_count": 110,
     "metadata": {},
     "output_type": "execute_result"
    }
   ],
   "source": [
    "marker17"
   ]
  },
  {
   "cell_type": "code",
   "execution_count": 111,
   "metadata": {},
   "outputs": [
    {
     "data": {
      "text/plain": [
       "109"
      ]
     },
     "execution_count": 111,
     "metadata": {},
     "output_type": "execute_result"
    }
   ],
   "source": [
    "marker25"
   ]
  },
  {
   "cell_type": "code",
   "execution_count": 113,
   "metadata": {},
   "outputs": [
    {
     "data": {
      "text/plain": [
       "109"
      ]
     },
     "execution_count": 113,
     "metadata": {},
     "output_type": "execute_result"
    }
   ],
   "source": [
    "marker32"
   ]
  },
  {
   "cell_type": "code",
   "execution_count": 114,
   "metadata": {},
   "outputs": [
    {
     "data": {
      "text/plain": [
       "81"
      ]
     },
     "execution_count": 114,
     "metadata": {},
     "output_type": "execute_result"
    }
   ],
   "source": [
    "marker40"
   ]
  },
  {
   "cell_type": "markdown",
   "metadata": {},
   "source": [
    "From the above analysis it can be observed that the number of times the markers were detected is not the same for two markers lying on either side of each other, the markers on the left wall(17,40) have relatively less number of detections when compared to the markers(32,25) on the right hand side of the wall. From the provided video we may deduce that this is due to the lighting conditions or due to the placement of the markers or also due to the field of view of the camera."
   ]
  },
  {
   "cell_type": "markdown",
   "metadata": {},
   "source": [
    "In the first case(17,32) both the markers were placed approximately at the same positions on the wall, the marker with id '32' was detected first this could have been due to the lighting conditions also notice that the detection of the marker with id 32 is more stable than the marker with id 17."
   ]
  },
  {
   "cell_type": "markdown",
   "metadata": {},
   "source": [
    "In the second case(40,25) the marker with id 40 is placed slightly lower than the marker with id 25, this results in it being detected first, but as the robot starts moving further along the corridor marker 40 goes out of the field of view before the marker 25 this may be attributed to the robot moving slightly more towards the right."
   ]
  },
  {
   "cell_type": "markdown",
   "metadata": {},
   "source": [
    "We may deduce from this that the optimal placement for the markers would be at a height slightly lower than the height at which the camera is placed or at a height which is approximately at the same level as the camera."
   ]
  },
  {
   "cell_type": "markdown",
   "metadata": {},
   "source": [
    "Also observed during the testing was that the qtcbcs realtions were observed only when the objects were in motion realtive to each other, but no qtcb realation is obeserved during the start and end of the video when the objects are realtively stationary, and hence no realtions can be calculated. During these instances we can use only the rcc or the distance calculus to approximate the motion of the robot."
   ]
  },
  {
   "cell_type": "code",
   "execution_count": 5,
   "metadata": {},
   "outputs": [
    {
     "data": {
      "text/plain": [
       "array([[5.13308002e+03, 0.00000000e+00, 3.19500000e+02],\n",
       "       [0.00000000e+00, 1.44866925e+05, 2.39500000e+02],\n",
       "       [0.00000000e+00, 0.00000000e+00, 1.00000000e+00]])"
      ]
     },
     "execution_count": 5,
     "metadata": {},
     "output_type": "execute_result"
    }
   ],
   "source": [
    "np.array([9,254,1]) * icm"
   ]
  },
  {
   "cell_type": "code",
   "execution_count": null,
   "metadata": {},
   "outputs": [],
   "source": []
  }
 ],
 "metadata": {
  "kernelspec": {
   "display_name": "Python [conda env:OpenCv]",
   "language": "python",
   "name": "conda-env-OpenCv-py"
  },
  "language_info": {
   "codemirror_mode": {
    "name": "ipython",
    "version": 2
   },
   "file_extension": ".py",
   "mimetype": "text/x-python",
   "name": "python",
   "nbconvert_exporter": "python",
   "pygments_lexer": "ipython2",
   "version": "2.7.15"
  }
 },
 "nbformat": 4,
 "nbformat_minor": 2
}
