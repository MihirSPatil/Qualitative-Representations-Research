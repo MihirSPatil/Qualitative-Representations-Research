{
 "cells": [
  {
   "cell_type": "code",
   "execution_count": 6,
   "metadata": {},
   "outputs": [],
   "source": [
    "import glob\n",
    "import time\n",
    "import cv2 as cv\n",
    "import numpy as np\n",
    "import cv2.aruco as aruco"
   ]
  },
  {
   "cell_type": "code",
   "execution_count": 7,
   "metadata": {},
   "outputs": [],
   "source": [
    "cap = cv.VideoCapture('Qualitative-Representations-Research/Test Videos/center.mp4')\n",
    "epochs = []\n",
    "ref_pose = []"
   ]
  },
  {
   "cell_type": "code",
   "execution_count": 8,
   "metadata": {},
   "outputs": [],
   "source": [
    "#marker length in meters\n",
    "marker_length = 0.166\n",
    "distortion_coeffs = np.array([0.0, 0.0, 0.0, 0.0, 0.0])\n",
    "intrinsic_camera_mat = np.array([570.3422241210938, 0.0, 319.5, 0.0, 570.3422241210938, 239.5, 0.0, 0.0, 1.0])\n",
    "rectification_matrix = np.array([1.0, 0.0, 0.0, 0.0, 1.0, 0.0, 0.0, 0.0, 1.0])\n",
    "camera_projection_matrix = np.array([570.3422241210938, 0.0, 319.5, 0.0, 0.0, 570.3422241210938, 239.5, 0.0, 0.0, 0.0, 1.0, 0.0])\n",
    "cpm = camera_projection_matrix.reshape(4,3)\n",
    "icm = intrinsic_camera_mat.reshape(3,3)"
   ]
  },
  {
   "cell_type": "code",
   "execution_count": 9,
   "metadata": {},
   "outputs": [
    {
     "name": "stdout",
     "output_type": "stream",
     "text": [
      "(32, array([ 0.92326925, -0.63263111]))\n",
      "(32, array([ 0.87856302, -0.61108948]))\n",
      "(32, array([ 0.87856302, -0.61108948]))\n",
      "(32, array([ 0.90943764, -0.62611682]))\n",
      "(32, array([ 0.91058501, -0.62601199]))\n",
      "(32, array([ 0.89752887, -0.61572842]))\n",
      "(32, array([ 0.90151426, -0.62089805]))\n",
      "(32, array([ 0.90943558, -0.62452853]))\n",
      "(32, array([ 0.92154376, -0.62903083]))\n",
      "(32, array([ 0.8990736 , -0.61836117]))\n",
      "(32, array([ 0.87997778, -0.59960981]))\n",
      "(32, array([ 0.91164015, -0.62194198]))\n",
      "(32, array([ 0.89386571, -0.60178351]))\n",
      "(32, array([ 0.90901134, -0.61317823]))\n",
      "(17, array([-0.79366448, -0.61577296]))\n",
      "(17, array([-0.79366448, -0.61577296]))\n",
      "(32, array([ 0.89467092, -0.60383843]))\n",
      "(32, array([ 0.889288  , -0.60054702]))\n",
      "(32, array([ 0.889288  , -0.60054702]))\n",
      "(32, array([ 0.90521598, -0.61171508]))\n",
      "(17, array([-0.78240171, -0.60676937]))\n",
      "(32, array([ 0.88340236, -0.60067569]))\n",
      "(32, array([ 0.86606351, -0.58509353]))\n",
      "(32, array([ 0.87090606, -0.58836088]))\n",
      "(32, array([ 0.90716744, -0.61173268]))\n",
      "(17, array([-0.76907499, -0.59382006]))\n",
      "(17, array([-0.78128124, -0.60138242]))\n",
      "(17, array([-0.78128124, -0.60138242]))\n",
      "(32, array([ 0.91008396, -0.61627282]))\n",
      "(32, array([ 0.90187459, -0.61629748]))\n",
      "(17, array([-0.78349689, -0.60349297]))\n",
      "(32, array([ 0.90614373, -0.61264617]))\n",
      "(32, array([ 0.89754755, -0.60682975]))\n",
      "(32, array([ 0.90097743, -0.60697504]))\n",
      "(32, array([ 0.90203572, -0.60691581]))\n",
      "(17, array([-0.79477237, -0.6139236 ]))\n",
      "(17, array([-0.78048306, -0.60458605]))\n",
      "(32, array([ 0.91449609, -0.62340699]))\n",
      "(17, array([-0.80064582, -0.62274163]))\n",
      "(17, array([-0.80064582, -0.62274163]))\n",
      "(17, array([-0.80461802, -0.62362245]))\n",
      "(32, array([ 0.90713426, -0.61425698]))\n",
      "(32, array([ 0.90375083, -0.61449949]))\n",
      "(32, array([ 0.89028787, -0.60249225]))\n",
      "(32, array([ 0.87798865, -0.59799211]))\n",
      "(32, array([ 0.90305972, -0.61751963]))\n",
      "(32, array([ 0.89351412, -0.60847852]))\n",
      "(32, array([ 0.90062608, -0.6115498 ]))\n",
      "(17, array([-0.75951896, -0.59269333]))\n",
      "(32, array([ 0.89274514, -0.60537556]))\n",
      "(32, array([ 0.90141747, -0.61158576]))\n",
      "(32, array([ 0.89480988, -0.60571172]))\n",
      "(32, array([ 0.89582838, -0.60570895]))\n",
      "(32, array([ 0.90015608, -0.61914585]))\n",
      "(32, array([ 0.9101603 , -0.62527087]))\n",
      "(32, array([ 0.90376752, -0.61836428]))\n",
      "(17, array([-0.78062393, -0.60390187]))\n",
      "(32, array([ 0.90868983, -0.62166811]))\n",
      "(17, array([-0.76485278, -0.59309997]))\n",
      "(17, array([-0.77676262, -0.60261236]))\n",
      "(17, array([-0.77948241, -0.60306968]))\n",
      "(32, array([ 0.89340396, -0.61304613]))\n",
      "(32, array([ 0.90825376, -0.6186913 ]))\n",
      "(17, array([-0.77451378, -0.60168245]))\n",
      "(32, array([ 0.8897875, -0.6046628]))\n",
      "(32, array([ 0.88384427, -0.60228942]))\n",
      "(17, array([-0.77331142, -0.60298426]))\n",
      "(17, array([-0.77015503, -0.60218063]))\n",
      "(17, array([-0.77071278, -0.60184046]))\n",
      "(17, array([-0.76828329, -0.60038489]))\n",
      "(32, array([ 0.88420678, -0.60504456]))\n",
      "(32, array([ 0.89104734, -0.60902006]))\n",
      "(32, array([ 0.91663861, -0.62781853]))\n",
      "(17, array([-0.78254304, -0.60978017]))\n",
      "(32, array([ 0.89205039, -0.61356417]))\n",
      "(32, array([ 0.89205039, -0.61356417]))\n",
      "(32, array([ 0.92733942, -0.63977133]))\n",
      "(17, array([-0.77053329, -0.60798937]))\n",
      "(17, array([-0.78548611, -0.62107437]))\n",
      "(17, array([-0.77859438, -0.61459933]))\n",
      "(32, array([ 0.92238653, -0.62601879]))\n",
      "(32, array([ 0.89606763, -0.60944829]))\n",
      "(32, array([ 0.9106488 , -0.62199414]))\n",
      "(17, array([-0.78614074, -0.62004392]))\n",
      "(32, array([ 0.9382882 , -0.64465099]))\n",
      "(32, array([ 0.90421361, -0.62209772]))\n",
      "(32, array([ 0.90508178, -0.62199743]))\n",
      "(17, array([-0.77883692, -0.61595053]))\n",
      "(17, array([-0.77743386, -0.61284343]))\n",
      "(17, array([-0.77127768, -0.60608381]))\n",
      "(17, array([-0.78213955, -0.62139129]))\n",
      "(32, array([ 0.90737635, -0.62340684]))\n",
      "(32, array([ 0.93107477, -0.63900673]))\n",
      "(32, array([ 0.93107477, -0.63900673]))\n",
      "(17, array([-0.77415737, -0.61277872]))\n",
      "(17, array([-0.78609317, -0.62363676]))\n",
      "(32, array([ 0.92557296, -0.63864958]))\n",
      "(32, array([ 0.89872447, -0.62221252]))\n",
      "(32, array([ 0.90051919, -0.62214572]))\n",
      "(17, array([-0.72808867, -0.58168331]))\n",
      "(17, array([-0.7304058 , -0.58530199]))\n",
      "(17, array([-0.7304058 , -0.58530199]))\n",
      "(32, array([ 0.90916362, -0.62224397]))\n",
      "(32, array([ 0.90916362, -0.62224397]))\n",
      "(17, array([-0.78223636, -0.62124499]))\n",
      "(32, array([ 0.91246995, -0.62907476]))\n",
      "(32, array([ 0.90584711, -0.62356694]))\n",
      "(32, array([ 0.90926804, -0.62620205]))\n",
      "(32, array([ 0.89330323, -0.61565958]))\n",
      "(32, array([ 0.89330323, -0.61565958]))\n",
      "(32, array([ 0.90235445, -0.62252287]))\n",
      "(32, array([ 0.90360014, -0.62176424]))\n",
      "(32, array([ 0.89103706, -0.61210429]))\n",
      "(32, array([ 0.90220281, -0.61978773]))\n",
      "(17, array([-0.7796017 , -0.62340567]))\n",
      "(17, array([-0.78386324, -0.62668161]))\n",
      "(32, array([ 0.91113868, -0.62761175]))\n",
      "(17, array([-0.77849648, -0.6251468 ]))\n",
      "(32, array([ 0.91113201, -0.62538827]))\n",
      "(32, array([ 0.9274392 , -0.63590117]))\n",
      "(32, array([ 0.91278494, -0.6285754 ]))\n",
      "(32, array([ 0.90102208, -0.62076354]))\n",
      "(32, array([ 0.91054272, -0.62925431]))\n",
      "(32, array([ 0.92218109, -0.63700612]))\n",
      "(32, array([ 0.94956449, -0.65751652]))\n",
      "(32, array([ 0.89622594, -0.62253727]))\n",
      "(32, array([ 0.90132011, -0.62533818]))\n",
      "(32, array([ 0.91279223, -0.63420637]))\n",
      "(32, array([ 0.91120946, -0.63131699]))\n",
      "(17, array([-0.71455873, -0.57356674]))\n",
      "(17, array([-0.73596329, -0.59019313]))\n",
      "(32, array([ 0.91556264, -0.63983287]))\n",
      "(32, array([ 0.93552018, -0.65368909]))\n",
      "(17, array([-0.75517031, -0.60771918]))\n",
      "(32, array([ 0.93689788, -0.65385696]))\n",
      "(17, array([-0.778303  , -0.62376107]))\n",
      "(17, array([-0.7800478 , -0.62538157]))\n",
      "(32, array([ 0.91321021, -0.65403741]))\n",
      "(32, array([ 0.89099205, -0.65096242]))\n",
      "(17, array([-0.8488393 , -0.62610545]))\n",
      "(32, array([ 0.86009628, -0.64961714]))\n",
      "(17, array([-0.86419023, -0.63665645]))\n",
      "(32, array([ 0.85322309, -0.63958457]))\n",
      "(17, array([-0.85167129, -0.63206168]))\n",
      "(17, array([-0.86089345, -0.63667703]))\n",
      "(17, array([-0.80564732, -0.59868471]))\n",
      "(17, array([-0.87210059, -0.64665466]))\n",
      "(17, array([-0.86038765, -0.63178586]))\n",
      "(32, array([ 0.83447304, -0.62974156]))\n",
      "(32, array([ 0.85192297, -0.64202083]))\n",
      "(17, array([-0.86624157, -0.64094073]))\n",
      "(32, array([ 0.84930751, -0.63922815]))\n",
      "(32, array([ 0.85138236, -0.6429194 ]))\n",
      "(17, array([-0.86272325, -0.63922479]))\n",
      "(17, array([-0.85668092, -0.63615516]))\n",
      "(17, array([-0.8657399 , -0.64125163]))\n",
      "(17, array([-0.86436116, -0.63618401]))\n",
      "(17, array([-0.86871301, -0.64053395]))\n",
      "(17, array([-0.85008969, -0.6270202 ]))\n",
      "(32, array([ 0.84208686, -0.63869677]))\n",
      "(32, array([ 0.84267183, -0.63853104]))\n",
      "(17, array([-0.85733886, -0.63174491]))\n",
      "(17, array([-0.87232085, -0.64479038]))\n",
      "(17, array([-0.86025428, -0.63318906]))\n",
      "(17, array([-0.85507676, -0.63101819]))\n",
      "(17, array([-0.87666194, -0.64027692]))\n",
      "(17, array([-0.8567712 , -0.62602406]))\n",
      "(32, array([ 0.85258798, -0.64980662]))\n",
      "(32, array([ 0.83987673, -0.63879799]))\n",
      "(32, array([ 0.83891843, -0.63866485]))\n",
      "(17, array([-0.8596544 , -0.63087614]))\n",
      "(17, array([-0.8589598 , -0.63265183]))\n",
      "(32, array([ 0.83282698, -0.63231524]))\n",
      "(32, array([ 0.85740781, -0.64860847]))\n",
      "(17, array([-0.85899904, -0.63324509]))\n",
      "(17, array([-0.85505147, -0.63066583]))\n",
      "(17, array([-0.86836415, -0.63759861]))\n",
      "(32, array([ 0.85105142, -0.65203468]))\n",
      "(17, array([-0.86297237, -0.63409071]))\n",
      "(32, array([ 0.86115704, -0.6590208 ]))\n",
      "(17, array([-0.8813805 , -0.64473018]))\n",
      "(17, array([-0.87613805, -0.64037656]))\n",
      "(40, array([-1.12516431,  0.04925428]))\n",
      "(40, array([-1.12942545,  0.04668262]))\n",
      "(40, array([-1.11815236,  0.04211867]))\n",
      "(40, array([-1.15279741,  0.04611397]))\n",
      "(40, array([-1.13566371,  0.04666973]))\n",
      "(40, array([-1.15270988,  0.04668309]))\n",
      "(40, array([-1.15981383,  0.04924365]))\n",
      "(40, array([-1.13024566,  0.0477214 ]))\n",
      "(40, array([-1.15383565,  0.04983236]))\n",
      "(40, array([-1.12452701,  0.04577311]))\n",
      "(40, array([-1.160618 ,  0.0446423]))\n",
      "(40, array([-1.14795146,  0.05024356]))\n",
      "(40, array([-1.13387204,  0.04832996]))\n",
      "(40, array([-1.14516876,  0.05081616]))\n",
      "(40, array([-1.1467523 ,  0.05083252]))\n",
      "(40, array([-1.16732989,  0.05026756]))\n",
      "(40, array([-1.13838021,  0.05368288]))\n",
      "(40, array([-1.15468163,  0.05321978]))\n",
      "(40, array([-1.1624785 ,  0.05081414]))\n",
      "(40, array([-1.1286245 ,  0.04687698]))\n",
      "(40, array([-1.1286245 ,  0.04687698]))\n",
      "(40, array([-1.1372363 ,  0.05403987]))\n",
      "(40, array([-1.139692  ,  0.05404174]))\n",
      "(40, array([-1.14376622,  0.05418137]))\n"
     ]
    },
    {
     "name": "stdout",
     "output_type": "stream",
     "text": [
      "(40, array([-1.15340808,  0.05418129]))\n",
      "(25, array([ 0.86610733, -0.19028525]))\n",
      "(40, array([-1.14458693,  0.05220324]))\n",
      "(25, array([ 0.85693506, -0.18661128]))\n",
      "(40, array([-1.16191449,  0.05418611]))\n",
      "(40, array([-1.16448558,  0.05413687]))\n",
      "(25, array([ 0.87545229, -0.19028467]))\n",
      "(40, array([-1.13829859,  0.05030669]))\n",
      "(40, array([-1.141242  ,  0.05027931]))\n",
      "(40, array([-1.12837198,  0.05071422]))\n",
      "(40, array([-1.1313157 ,  0.05074255]))\n",
      "(40, array([-1.13984994,  0.04835511]))\n",
      "(40, array([-1.13917672,  0.05073451]))\n",
      "(40, array([-1.13376373,  0.05112275]))\n",
      "(40, array([-1.13884772,  0.0534689 ]))\n",
      "(25, array([ 0.85037812, -0.18053017]))\n",
      "(40, array([-1.16653191,  0.05297569]))\n",
      "(25, array([ 0.85552305, -0.18833914]))\n",
      "(25, array([ 0.87145102, -0.19002681]))\n",
      "(40, array([-1.14595398,  0.0492907 ]))\n",
      "(40, array([-1.14882184,  0.04712575]))\n",
      "(40, array([-1.1501595,  0.047132 ]))\n",
      "(25, array([ 0.86295505, -0.19000198]))\n",
      "(25, array([ 0.86958226, -0.19252346]))\n",
      "(25, array([ 0.8603403 , -0.18907994]))\n",
      "(40, array([-1.13759956,  0.04148971]))\n",
      "(40, array([-1.14133992,  0.04150308]))\n",
      "(25, array([ 0.85834854, -0.19158635]))\n",
      "(40, array([-1.13272315,  0.04854728]))\n",
      "(40, array([-1.11941622,  0.04894194]))\n",
      "(40, array([-1.122338  ,  0.04898134]))\n",
      "(40, array([-1.13857899,  0.04856798]))\n",
      "(25, array([ 0.86553586, -0.19155977]))\n",
      "(40, array([-1.13086773,  0.04898123]))\n",
      "(25, array([ 0.87134102, -0.19308349]))\n",
      "(25, array([ 0.85314176, -0.19311793]))\n",
      "(40, array([-1.13901912,  0.0467965 ]))\n",
      "(40, array([-1.15795296,  0.04856552]))\n",
      "(25, array([ 0.87020671, -0.19225143]))\n",
      "(40, array([-1.13319721,  0.04305791]))\n",
      "(25, array([ 0.85672812, -0.19510243]))\n",
      "(40, array([-1.13943508,  0.04305943]))\n",
      "(40, array([-1.11421603,  0.04403442]))\n",
      "(40, array([-1.115293  ,  0.04608678]))\n",
      "(40, array([-1.13361972,  0.04775288]))\n",
      "(40, array([-1.13448602,  0.04774815]))\n",
      "(25, array([ 0.85745607, -0.19200373]))\n",
      "(25, array([ 0.84012019, -0.18939781]))\n",
      "(40, array([-1.12991788,  0.04405267]))\n",
      "(25, array([ 0.85499642, -0.19110849]))\n",
      "(40, array([-1.14758738,  0.04358234]))\n",
      "(40, array([-1.12120253,  0.04448741]))\n",
      "(25, array([ 0.86745665, -0.19681549]))\n",
      "(25, array([ 0.86414486, -0.19117724]))\n",
      "(25, array([ 0.87519073, -0.19196149]))\n",
      "(40, array([-1.13060277,  0.04449939]))\n",
      "(40, array([-1.13538677,  0.03848429]))\n",
      "(40, array([-1.15017613,  0.03585379]))\n",
      "(40, array([-1.1392949,  0.0384849]))\n",
      "(40, array([-1.15439375,  0.04405228]))\n",
      "(25, array([ 0.87690596, -0.19905149]))\n",
      "(40, array([-1.13152826,  0.04498339]))\n",
      "(25, array([ 0.88202879, -0.19911761]))\n",
      "(40, array([-1.1233575 ,  0.04549121]))\n",
      "(40, array([-1.13882365,  0.04499703]))\n",
      "(40, array([-1.13897114,  0.04296275]))\n",
      "(25, array([ 0.88918569, -0.19915359]))\n",
      "(40, array([-1.14469928,  0.04099677]))\n",
      "(40, array([-1.1072138 ,  0.04058151]))\n",
      "(25, array([ 0.8670173 , -0.18931007]))\n",
      "(25, array([ 0.87287979, -0.19527746]))\n",
      "(25, array([ 0.87584433, -0.19786057]))\n",
      "(25, array([ 0.86962288, -0.19485032]))\n",
      "(40, array([-1.1574903,  0.044985 ]))\n",
      "(25, array([ 0.86233396, -0.18935695]))\n",
      "(40, array([-1.13529835,  0.04002331]))\n",
      "(25, array([ 0.85887438, -0.19244179]))\n",
      "(25, array([ 0.84998247, -0.19073685]))\n",
      "(25, array([ 0.85224783, -0.19083429]))\n",
      "(40, array([-1.1324084 ,  0.03858091]))\n",
      "(25, array([ 0.85583444, -0.19083265]))\n",
      "(40, array([-1.12985485,  0.04485103]))\n",
      "(25, array([ 0.86055647, -0.19085217]))\n",
      "(40, array([-1.12076834,  0.04335887]))\n",
      "(25, array([ 0.85433799, -0.19138296]))\n",
      "(40, array([-1.11138759,  0.03438252]))\n",
      "(40, array([-1.14069283,  0.03713933]))\n",
      "(25, array([ 0.86329125, -0.19013297]))\n",
      "(25, array([ 0.84746882, -0.187827  ]))\n",
      "(40, array([-1.13257561,  0.04334739]))\n",
      "(40, array([-1.1254444 ,  0.04382339]))\n",
      "(40, array([-1.13970669,  0.04713423]))\n",
      "(25, array([ 0.84224167, -0.18638768]))\n",
      "(40, array([-1.13139781,  0.04197129]))\n",
      "(40, array([-1.13347406,  0.04011692]))\n",
      "(25, array([ 0.86055082, -0.18939184]))\n",
      "(25, array([ 0.8892362, -0.1982433]))\n",
      "(25, array([ 0.85466559, -0.18994014]))\n",
      "(25, array([ 0.85751323, -0.18766364]))\n",
      "(25, array([ 0.86264443, -0.18644264]))\n",
      "(25, array([ 0.87215394, -0.18920697]))\n",
      "(25, array([ 0.868653  , -0.19225439]))\n",
      "(25, array([ 0.86532544, -0.19115622]))\n",
      "(25, array([ 0.8612734 , -0.19054494]))\n",
      "(25, array([ 0.86576321, -0.1905833 ]))\n",
      "(25, array([ 0.86682311, -0.19196989]))\n",
      "(25, array([ 0.87939397, -0.19350114]))\n",
      "(25, array([ 0.85273749, -0.18638719]))\n",
      "(25, array([ 0.85524893, -0.18299639]))\n",
      "(25, array([ 0.87035488, -0.18561815]))\n",
      "(25, array([ 0.8589724 , -0.18921934]))\n",
      "(25, array([ 0.85960191, -0.1891768 ]))\n",
      "(25, array([ 0.85708196, -0.18780804]))\n",
      "(25, array([ 0.86974602, -0.18917527]))\n",
      "(25, array([ 0.87022793, -0.19042378]))\n",
      "(25, array([ 0.86014981, -0.19172097]))\n",
      "(25, array([ 0.87107373, -0.19092653]))\n",
      "(25, array([ 0.86583673, -0.19170432]))\n",
      "(25, array([ 0.87410447, -0.19568259]))\n",
      "(25, array([ 0.86928989, -0.19504134]))\n",
      "(25, array([ 0.85911747, -0.18967395]))\n",
      "(25, array([ 0.8577209 , -0.19098373]))\n",
      "(25, array([ 0.86489501, -0.19618686]))\n",
      "(25, array([ 0.86607662, -0.19752932]))\n",
      "(25, array([ 0.8531098 , -0.19542816]))\n",
      "(25, array([ 0.86086347, -0.19801007]))\n",
      "(25, array([ 0.84815967, -0.19592963]))\n",
      "(25, array([ 0.85551138, -0.19751425]))\n",
      "(25, array([ 0.84789638, -0.19641561]))\n",
      "(25, array([ 0.84789638, -0.19641561]))\n",
      "(25, array([ 0.8541411 , -0.19641481]))\n",
      "(25, array([ 0.8541411 , -0.19641481]))\n",
      "(25, array([ 0.85481727, -0.19638329]))\n",
      "(25, array([ 0.85394653, -0.19756527]))\n",
      "(25, array([ 0.86500673, -0.20334349]))\n",
      "(25, array([ 0.85320803, -0.2001817 ]))\n",
      "(25, array([ 0.86826243, -0.20335423]))\n",
      "(25, array([ 0.86620897, -0.2027406 ]))\n",
      "(25, array([ 0.85459092, -0.20025632]))\n",
      "(25, array([ 0.86183134, -0.20122575]))\n",
      "(25, array([ 0.84874443, -0.19913654]))\n",
      "(25, array([ 0.86658034, -0.20435278]))\n",
      "(25, array([ 0.85401488, -0.2021637 ]))\n",
      "(25, array([ 0.86295418, -0.20369301]))\n",
      "(25, array([ 0.86530005, -0.20470652]))\n",
      "(25, array([ 0.85908305, -0.20211422]))\n",
      "(25, array([ 0.86197124, -0.20226908]))\n",
      "(25, array([ 0.8797146 , -0.20744215]))\n",
      "(25, array([ 0.87540123, -0.20782245]))\n",
      "(25, array([ 0.85459966, -0.20324591]))\n",
      "(25, array([ 0.85670236, -0.20322199]))\n",
      "(25, array([ 0.84981162, -0.20180273]))\n",
      "(25, array([ 0.85443228, -0.2038426 ]))\n",
      "(25, array([ 0.88432982, -0.2118035 ]))\n",
      "(25, array([ 0.84674018, -0.20332538]))\n",
      "(25, array([ 0.86333661, -0.20569466]))\n",
      "(25, array([ 0.83888465, -0.19843928]))\n",
      "(25, array([ 0.86048615, -0.20124964]))\n",
      "(25, array([ 0.86281269, -0.20127273]))\n",
      "(25, array([ 0.85739493, -0.20278574]))\n",
      "(25, array([ 0.85820472, -0.20569517]))\n",
      "(25, array([ 0.85947579, -0.20839592]))\n",
      "(25, array([ 0.86181588, -0.20842937]))\n",
      "(25, array([ 0.85658378, -0.2089635 ]))\n",
      "(25, array([ 0.8594925 , -0.20898921]))\n",
      "(25, array([ 0.86078668, -0.20606553]))\n"
     ]
    }
   ],
   "source": [
    "while(True):\n",
    "    # Capture frame-by-frame\n",
    "    ret, frame = cap.read()\n",
    "    if (ret):\n",
    "        # Our operations on the frame come here\n",
    "        #gray = cv.cvtColor(frame, cv.COLOR_BGR2GRAY)\n",
    "        aruco_dict = aruco.Dictionary_get(aruco.DICT_6X6_250)\n",
    "        parameters =  aruco.DetectorParameters_create()\n",
    "    \n",
    "        corners, ids, rejectedImgPoints = aruco.detectMarkers(frame, aruco_dict, parameters=parameters)\n",
    "    \n",
    "        if corners or ids:\n",
    "            #timestamps = cap.get(cv.CAP_PROP_POS_MSEC)\n",
    "            #time_list.append(timestamps)\n",
    "            epochs.append(time.time())\n",
    "            gray = aruco.drawDetectedMarkers(frame, corners,ids)\n",
    "            rvec, tvec, _ = aruco.estimatePoseSingleMarkers(corners,marker_length,icm, distortion_coeffs)\n",
    "\n",
    "            #for bookeeping purposes\n",
    "            pose_tuple = ids[0][0], tvec[0][0][:2]\n",
    "            print (pose_tuple)\n",
    "            ref_pose.append(pose_tuple)\n",
    "            \n",
    "            \n",
    "        # Display the resulting frame\n",
    "        cv.imshow('frame',frame)\n",
    "        if cv.waitKey(1) & 0xFF == ord('q'):\n",
    "            break\n",
    "        \n",
    "                \n",
    "    else:\n",
    "        break\n",
    " \n",
    "#release the capture once everything is done\n",
    "cap.release()\n",
    "cv.destroyAllWindows()"
   ]
  },
  {
   "cell_type": "markdown",
   "metadata": {},
   "source": [
    "#### can also use time.clock but that will only give system time and not the actual time(12/24 hour format), with ros use ros.time.now"
   ]
  },
  {
   "cell_type": "code",
   "execution_count": 203,
   "metadata": {},
   "outputs": [
    {
     "data": {
      "text/plain": [
       "'Wed Oct 24 14:34:27 2018'"
      ]
     },
     "execution_count": 203,
     "metadata": {},
     "output_type": "execute_result"
    }
   ],
   "source": [
    "time.ctime(epochs[0])"
   ]
  },
  {
   "cell_type": "code",
   "execution_count": null,
   "metadata": {},
   "outputs": [],
   "source": [
    "epochs"
   ]
  },
  {
   "cell_type": "code",
   "execution_count": 76,
   "metadata": {},
   "outputs": [],
   "source": [
    "# write to a csv file just for testing \n",
    "import csv\n",
    "\n",
    "with open('temp.csv', 'w') as csvfile:\n",
    "    fieldnames = ['agent1', 'x1', 'y1', 'agent2', 'x2', 'y2', 'agent3', 'x3', 'y3']\n",
    "    writer = csv.DictWriter(csvfile, fieldnames=fieldnames)\n",
    "    \n",
    "    writer.writeheader()\n",
    "    for i in range(len(ref_pose)):\n",
    "        #check the marker_id to decide when to put what\n",
    "        if ref_pose[i][1][0] > 0:\n",
    "            #puts data in the right most column if the object is on the right\n",
    "            writer.writerow({'agent3': ref_pose[i][0], 'x3': ref_pose[i][1][0], 'y3': ref_pose[i][1][1]})\n",
    "        else :\n",
    "            #puts data in the left most column if the object is on the left\n",
    "            writer.writerow({'agent1': ref_pose[i][0], 'x1': ref_pose[i][1][0], 'y1': ref_pose[i][1][1]})\n",
    "    "
   ]
  },
  {
   "cell_type": "code",
   "execution_count": 109,
   "metadata": {},
   "outputs": [],
   "source": [
    "#just to count the number of instances of each marker\n",
    "marker17,marker32,marker40,marker25 = 0,0,0,0\n",
    "for idx in range(len(ref_pose)):\n",
    "    if ref_pose[idx][0] == 17:\n",
    "        marker17+= 1\n",
    "    elif ref_pose[idx][0] == 32:\n",
    "        marker32+= 1\n",
    "    elif ref_pose[idx][0] == 25:\n",
    "        marker25+= 1\n",
    "    elif ref_pose[idx][0] == 40:\n",
    "        marker40+= 1"
   ]
  },
  {
   "cell_type": "code",
   "execution_count": 110,
   "metadata": {},
   "outputs": [
    {
     "data": {
      "text/plain": [
       "73"
      ]
     },
     "execution_count": 110,
     "metadata": {},
     "output_type": "execute_result"
    }
   ],
   "source": [
    "marker17"
   ]
  },
  {
   "cell_type": "code",
   "execution_count": 111,
   "metadata": {},
   "outputs": [
    {
     "data": {
      "text/plain": [
       "109"
      ]
     },
     "execution_count": 111,
     "metadata": {},
     "output_type": "execute_result"
    }
   ],
   "source": [
    "marker25"
   ]
  },
  {
   "cell_type": "code",
   "execution_count": 113,
   "metadata": {},
   "outputs": [
    {
     "data": {
      "text/plain": [
       "109"
      ]
     },
     "execution_count": 113,
     "metadata": {},
     "output_type": "execute_result"
    }
   ],
   "source": [
    "marker32"
   ]
  },
  {
   "cell_type": "code",
   "execution_count": 114,
   "metadata": {},
   "outputs": [
    {
     "data": {
      "text/plain": [
       "81"
      ]
     },
     "execution_count": 114,
     "metadata": {},
     "output_type": "execute_result"
    }
   ],
   "source": [
    "marker40"
   ]
  },
  {
   "cell_type": "markdown",
   "metadata": {},
   "source": [
    "From the above analysis it can be observed that the number of times the markers were detected is not the same for two markers lying on either side of each other, the markers on the left wall(17,40) have relatively less number of detections when compared to the markers(32,25) on the right hand side of the wall. From the provided video we may deduce that this is due to the lighting conditions or due to the placement of the markers or also due to the field of view of the camera."
   ]
  },
  {
   "cell_type": "markdown",
   "metadata": {},
   "source": [
    "In the first case(17,32) both the markers were placed approximately at the same positions on the wall, the marker with id '32' was detected first this could have been due to the lighting conditions also notice that the detection of the marker with id 32 is more stable than the marker with id 17."
   ]
  },
  {
   "cell_type": "markdown",
   "metadata": {},
   "source": [
    "In the second case(40,25) the marker with id 40 is placed slightly lower than the marker with id 25, this results in it being detected first, but as the robot starts moving further along the corridor marker 40 goes out of the field of view before the marker 25 this may be attributed to the robot moving slightly more towards the right."
   ]
  },
  {
   "cell_type": "markdown",
   "metadata": {},
   "source": [
    "We may deduce from this that the optimal placement for the markers would be at a height slightly lower than the height at which the camera is placed or at a height which is approximately at the same level as the camera."
   ]
  },
  {
   "cell_type": "markdown",
   "metadata": {},
   "source": [
    "Also observed during the testing was that the qtcbcs realtions were observed only when the objects were in motion realtive to each other, but no qtcb realation is obeserved during the start and end of the video when the objects are realtively stationary, and hence no realtions can be calculated. During these instances we can use only the rcc or the distance calculus to approximate the motion of the robot."
   ]
  },
  {
   "cell_type": "code",
   "execution_count": 5,
   "metadata": {},
   "outputs": [
    {
     "data": {
      "text/plain": [
       "array([[5.13308002e+03, 0.00000000e+00, 3.19500000e+02],\n",
       "       [0.00000000e+00, 1.44866925e+05, 2.39500000e+02],\n",
       "       [0.00000000e+00, 0.00000000e+00, 1.00000000e+00]])"
      ]
     },
     "execution_count": 5,
     "metadata": {},
     "output_type": "execute_result"
    }
   ],
   "source": [
    "np.array([9,254,1]) * icm"
   ]
  },
  {
   "cell_type": "code",
   "execution_count": null,
   "metadata": {},
   "outputs": [],
   "source": []
  }
 ],
 "metadata": {
  "kernelspec": {
   "display_name": "Python [conda env:OpenCv]",
   "language": "python",
   "name": "conda-env-OpenCv-py"
  },
  "language_info": {
   "codemirror_mode": {
    "name": "ipython",
    "version": 2
   },
   "file_extension": ".py",
   "mimetype": "text/x-python",
   "name": "python",
   "nbconvert_exporter": "python",
   "pygments_lexer": "ipython2",
   "version": "2.7.15"
  }
 },
 "nbformat": 4,
 "nbformat_minor": 2
}
